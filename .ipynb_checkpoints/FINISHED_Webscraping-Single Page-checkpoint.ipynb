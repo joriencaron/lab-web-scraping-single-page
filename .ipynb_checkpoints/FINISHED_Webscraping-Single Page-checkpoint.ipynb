{
 "cells": [
  {
   "cell_type": "code",
   "execution_count": 15,
   "id": "850c704c",
   "metadata": {},
   "outputs": [],
   "source": [
    "from bs4 import BeautifulSoup\n",
    "import requests\n",
    "import pandas as pd"
   ]
  },
  {
   "cell_type": "code",
   "execution_count": null,
   "id": "d0f6a404",
   "metadata": {},
   "outputs": [],
   "source": [
    "##charts > div > div.chart-list__wrapper > div > ol > li:nth-child(1) > button > span.chart-element__information"
   ]
  },
  {
   "cell_type": "code",
   "execution_count": 17,
   "id": "65496a41",
   "metadata": {},
   "outputs": [],
   "source": [
    "url = \"https://www.billboard.com/charts/hot-100\""
   ]
  },
  {
   "cell_type": "code",
   "execution_count": 18,
   "id": "dab4dad5",
   "metadata": {},
   "outputs": [
    {
     "data": {
      "text/plain": [
       "200"
      ]
     },
     "execution_count": 18,
     "metadata": {},
     "output_type": "execute_result"
    }
   ],
   "source": [
    "response = requests.get(url)\n",
    "response.status_code"
   ]
  },
  {
   "cell_type": "code",
   "execution_count": 19,
   "id": "936487a9",
   "metadata": {},
   "outputs": [],
   "source": [
    "soup = BeautifulSoup(response.content, \"html.parser\")"
   ]
  },
  {
   "cell_type": "code",
   "execution_count": 2,
   "id": "db36fb02",
   "metadata": {},
   "outputs": [],
   "source": [
    "soup"
   ]
  },
  {
   "cell_type": "code",
   "execution_count": 1,
   "id": "f7d7833b",
   "metadata": {},
   "outputs": [],
   "source": [
    "soup.select('span.chart-element__information')"
   ]
  },
  {
   "cell_type": "code",
   "execution_count": 28,
   "id": "fc41161c",
   "metadata": {},
   "outputs": [
    {
     "name": "stdout",
     "output_type": "stream",
     "text": [
      "Butter\n"
     ]
    }
   ],
   "source": [
    "print(soup.select(\"span.chart-element__information__song\")[0].get_text())"
   ]
  },
  {
   "cell_type": "code",
   "execution_count": 30,
   "id": "4b9654c1",
   "metadata": {},
   "outputs": [
    {
     "name": "stdout",
     "output_type": "stream",
     "text": [
      "BTS\n"
     ]
    }
   ],
   "source": [
    "print(soup.select(\"span.chart-element__information__artist\")[0].get_text())"
   ]
  },
  {
   "cell_type": "code",
   "execution_count": 31,
   "id": "f94c6028",
   "metadata": {},
   "outputs": [],
   "source": [
    "song = []\n",
    "artist = []\n",
    "\n",
    "num_iter = len(soup.select(\"span.chart-element__information__song\"))\n",
    "\n",
    "for i in range(num_iter):\n",
    "    song.append(soup.select(\"span.chart-element__information__song\")[i].get_text())\n",
    "    artist.append(soup.select(\"span.chart-element__information__artist\")[i].get_text())"
   ]
  },
  {
   "cell_type": "code",
   "execution_count": 33,
   "id": "d1601cb8",
   "metadata": {},
   "outputs": [],
   "source": [
    "top100 = pd.DataFrame({\"song_title\":song,\n",
    "                       \"artist\":artist,\n",
    "                      })"
   ]
  },
  {
   "cell_type": "code",
   "execution_count": 34,
   "id": "d6a9711e",
   "metadata": {},
   "outputs": [
    {
     "data": {
      "text/html": [
       "<div>\n",
       "<style scoped>\n",
       "    .dataframe tbody tr th:only-of-type {\n",
       "        vertical-align: middle;\n",
       "    }\n",
       "\n",
       "    .dataframe tbody tr th {\n",
       "        vertical-align: top;\n",
       "    }\n",
       "\n",
       "    .dataframe thead th {\n",
       "        text-align: right;\n",
       "    }\n",
       "</style>\n",
       "<table border=\"1\" class=\"dataframe\">\n",
       "  <thead>\n",
       "    <tr style=\"text-align: right;\">\n",
       "      <th></th>\n",
       "      <th>song_title</th>\n",
       "      <th>artist</th>\n",
       "    </tr>\n",
       "  </thead>\n",
       "  <tbody>\n",
       "    <tr>\n",
       "      <th>0</th>\n",
       "      <td>Butter</td>\n",
       "      <td>BTS</td>\n",
       "    </tr>\n",
       "    <tr>\n",
       "      <th>1</th>\n",
       "      <td>Stay</td>\n",
       "      <td>The Kid LAROI &amp; Justin Bieber</td>\n",
       "    </tr>\n",
       "    <tr>\n",
       "      <th>2</th>\n",
       "      <td>Bad Habits</td>\n",
       "      <td>Ed Sheeran</td>\n",
       "    </tr>\n",
       "    <tr>\n",
       "      <th>3</th>\n",
       "      <td>Good 4 U</td>\n",
       "      <td>Olivia Rodrigo</td>\n",
       "    </tr>\n",
       "    <tr>\n",
       "      <th>4</th>\n",
       "      <td>Kiss Me More</td>\n",
       "      <td>Doja Cat Featuring SZA</td>\n",
       "    </tr>\n",
       "  </tbody>\n",
       "</table>\n",
       "</div>"
      ],
      "text/plain": [
       "     song_title                         artist\n",
       "0        Butter                            BTS\n",
       "1          Stay  The Kid LAROI & Justin Bieber\n",
       "2    Bad Habits                     Ed Sheeran\n",
       "3      Good 4 U                 Olivia Rodrigo\n",
       "4  Kiss Me More         Doja Cat Featuring SZA"
      ]
     },
     "execution_count": 34,
     "metadata": {},
     "output_type": "execute_result"
    }
   ],
   "source": [
    "top100.head()"
   ]
  },
  {
   "cell_type": "code",
   "execution_count": null,
   "id": "f79daff3",
   "metadata": {},
   "outputs": [],
   "source": []
  }
 ],
 "metadata": {
  "kernelspec": {
   "display_name": "Python 3",
   "language": "python",
   "name": "python3"
  },
  "language_info": {
   "codemirror_mode": {
    "name": "ipython",
    "version": 3
   },
   "file_extension": ".py",
   "mimetype": "text/x-python",
   "name": "python",
   "nbconvert_exporter": "python",
   "pygments_lexer": "ipython3",
   "version": "3.8.8"
  }
 },
 "nbformat": 4,
 "nbformat_minor": 5
}
